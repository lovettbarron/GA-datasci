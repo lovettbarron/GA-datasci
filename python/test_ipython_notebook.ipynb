{
 "metadata": {
  "name": "",
  "signature": "sha256:cba479c3a2d76b34a14175ea19c7f868b38b3b54093fc2a0ebe9ef1285dca1e5"
 },
 "nbformat": 3,
 "nbformat_minor": 0,
 "worksheets": [
  {
   "cells": [
    {
     "cell_type": "markdown",
     "metadata": {},
     "source": [
      "###If you're reading this, you've successfully launched ipython notebook.  \n",
      "\n",
      "#####You'll be ready to hit the ground running!  See you in class on Saturday.\n",
      "\n",
      "#####Craig"
     ]
    },
    {
     "cell_type": "code",
     "collapsed": false,
     "input": [],
     "language": "python",
     "metadata": {},
     "outputs": []
    }
   ],
   "metadata": {}
  }
 ]
}