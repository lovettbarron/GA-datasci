{
 "cells": [
  {
   "cell_type": "markdown",
   "metadata": {},
   "source": [
    "# First go\n",
    "This is a first attempt to bring data in and make use of pandas.\n",
    "\n",
    "The goal is to pull in a data set, and create a handful of pivot tables based on the data, using the pandas API."
   ]
  },
  {
   "cell_type": "code",
   "execution_count": 1,
   "metadata": {
    "collapsed": true
   },
   "outputs": [],
   "source": [
    "# Import necessary libraries\n",
    "from pandas import DataFrame, read_csv\n",
    "import matplotlib.pyplot as plt\n",
    "import pandas as pd\n",
    "import sys\n",
    "\n",
    "# inline plot\n",
    "%matplotlib inline"
   ]
  },
  {
   "cell_type": "code",
   "execution_count": 52,
   "metadata": {
    "collapsed": false
   },
   "outputs": [
    {
     "data": {
      "text/plain": [
       "ID                    int64\n",
       "country              object\n",
       "infant_mortality    float64\n",
       "gdpcap                int64\n",
       "literacy            float64\n",
       "dtype: object"
      ]
     },
     "execution_count": 52,
     "metadata": {},
     "output_type": "execute_result"
    }
   ],
   "source": [
    "d_csv = pd.read_csv(\"data/countries.csv\")\n",
    "d_csv.dtypes"
   ]
  },
  {
   "cell_type": "code",
   "execution_count": 53,
   "metadata": {
    "collapsed": false
   },
   "outputs": [
    {
     "data": {
      "text/plain": [
       "count      210.000000\n",
       "mean      9820.476190\n",
       "std      10197.246545\n",
       "min        500.000000\n",
       "25%       1900.000000\n",
       "50%       5700.000000\n",
       "75%      15700.000000\n",
       "max      55100.000000\n",
       "Name: gdpcap, dtype: float64"
      ]
     },
     "execution_count": 53,
     "metadata": {},
     "output_type": "execute_result"
    }
   ],
   "source": [
    "ds = d_csv.sort_values(['gdpcap'],ascending=False)\n",
    "ds.head(10)\n",
    "ds['gdpcap'].describe()"
   ]
  },
  {
   "cell_type": "code",
   "execution_count": 65,
   "metadata": {
    "collapsed": false
   },
   "outputs": [
    {
     "name": "stdout",
     "output_type": "stream",
     "text": [
      "Object `plot` not found.\n"
     ]
    }
   ],
   "source": [
    "gdp = ds.groupby('gdpcap')\n",
    "gdp.plot(x='gdpcap',y='literacy',kind='scatter')\n",
    "# max_val = ds[\"gdpcap\"].max()\n",
    "# ds.sort_values(by=\"gdpcap\",ascending=False)\n",
    "# plt.annotate(xy=(1, max_val), xytext=(8, 0), \n",
    "#                  xycoords=('axes fraction', 'data'), textcoords='offset points')\n",
    "# ds[ds['gdpcap'] == ds['gdpcap'].max()]"
   ]
  },
  {
   "cell_type": "code",
   "execution_count": null,
   "metadata": {
    "collapsed": true
   },
   "outputs": [],
   "source": [
    "gdp[\"gdpcap\"].plot"
   ]
  },
  {
   "cell_type": "code",
   "execution_count": null,
   "metadata": {
    "collapsed": true
   },
   "outputs": [],
   "source": []
  }
 ],
 "metadata": {
  "kernelspec": {
   "display_name": "Python 2",
   "language": "python",
   "name": "python2"
  },
  "language_info": {
   "codemirror_mode": {
    "name": "ipython",
    "version": 2
   },
   "file_extension": ".py",
   "mimetype": "text/x-python",
   "name": "python",
   "nbconvert_exporter": "python",
   "pygments_lexer": "ipython2",
   "version": "2.7.10"
  }
 },
 "nbformat": 4,
 "nbformat_minor": 0
}
